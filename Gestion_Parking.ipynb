{
 "cells": [
  {
   "cell_type": "code",
   "execution_count": null,
   "id": "3dabcf24-bd42-4aef-a579-253c618fc424",
   "metadata": {},
   "outputs": [],
   "source": [
    "# 🚗 Projet Python : Système de Stationnement Intelligent\n",
    "\n",
    "\"\"\"\n",
    "Ce notebook simule un petit système de gestion de parking de 10 places.  \n",
    "Fonctionnalités principales :\n",
    "- Louer une place\n",
    "- Rendre une voiture\n",
    "- Afficher l’état actuel\n",
    "- Afficher les revenus\n",
    "- Enregistrer chaque action dans un fichier CSV\n",
    "\"\"\""
   ]
  },
  {
   "cell_type": "code",
   "execution_count": 4,
   "id": "7f7a181e-f2c8-4b18-bd24-4e4eb4c5256d",
   "metadata": {},
   "outputs": [],
   "source": [
    "# import des bilbliothèques\n",
    "from colorama import Fore, Style, init\n",
    "from datetime import datetime\n",
    "import time\n",
    "import csv\n",
    "\n",
    "init(autoreset=True)\n"
   ]
  },
  {
   "cell_type": "code",
   "execution_count": 5,
   "id": "4fbb8bdb-229a-47f9-9893-705922b69c30",
   "metadata": {},
   "outputs": [],
   "source": [
    "parking_spots = [{\"occupied\": False, \"start_time\": None} for _ in range(10)]\n",
    "total_revenue = 0.0\n",
    "\n",
    "# Créer le fichier logs.csv s’il n’existe pas déjà\n",
    "with open(\"logs.csv\", mode=\"a\", newline=\"\") as f:\n",
    "    writer = csv.writer(f)\n",
    "    writer.writerow([\"action\", \"spot\", \"timestamp\"])"
   ]
  },
  {
   "cell_type": "code",
   "execution_count": 6,
   "id": "7323a1ae-fa86-42f7-97d1-7de48bc6f906",
   "metadata": {},
   "outputs": [],
   "source": [
    "# Fonctions de gestion\n",
    "def louer_place():\n",
    "    global parking_spots\n",
    "    for i, spot in enumerate(parking_spots):\n",
    "        if not spot[\"occupied\"]:\n",
    "            spot[\"occupied\"] = True\n",
    "            spot[\"start_time\"] = time.time()\n",
    "\n",
    "            with open(\"logs.csv\", mode=\"a\", newline=\"\") as f:\n",
    "                writer = csv.writer(f)\n",
    "                writer.writerow([\"arrival\", i + 1, datetime.now()])\n",
    "\n",
    "            print(f\"🚗 Voiture garée à la place {i + 1} à {time.ctime(spot['start_time'])}\")\n",
    "            return\n",
    "    print(\"❌ Désolé, toutes les places sont occupées.\")\n",
    "\n",
    "def rendre_place():\n",
    "    global parking_spots, total_revenue\n",
    "    try:\n",
    "        spot_num = int(input(\"🔁 Entrez le numéro de place (1 à 10) : \"))\n",
    "    except ValueError:\n",
    "        print(\"❌ Entrée invalide. Entrez un nombre.\")\n",
    "        return\n",
    "    \n",
    "    if 1 <= spot_num <= 10:\n",
    "        spot = parking_spots[spot_num - 1]\n",
    "        if spot[\"occupied\"]:\n",
    "            end_time = time.time()\n",
    "            duration = (end_time - spot[\"start_time\"]) / 3600\n",
    "            cost = round(duration * 2.0, 2)\n",
    "\n",
    "            spot[\"occupied\"] = False\n",
    "            spot[\"start_time\"] = None\n",
    "            total_revenue += cost\n",
    "\n",
    "            with open(\"logs.csv\", mode=\"a\", newline=\"\") as f:\n",
    "                writer = csv.writer(f)\n",
    "                writer.writerow([\"departure\", spot_num, datetime.now()])\n",
    "\n",
    "            print(f\"💰 Voiture sortie de la place {spot_num}\")\n",
    "            print(f\"🕒 Durée : {duration:.2f} heures\")\n",
    "            print(f\"💵 Tarif à payer : {cost} $\")\n",
    "        else:\n",
    "            print(\"⚠️ Cette place est déjà libre.\")\n",
    "    else:\n",
    "        print(\"❌ Numéro invalide.\")\n",
    "\n",
    "def afficher_etat():\n",
    "    print(Fore.CYAN + \"🚦 État du parking :\")\n",
    "    print(Fore.YELLOW + \"-\" * 30)\n",
    "    for i, spot in enumerate(parking_spots):\n",
    "        num = i + 1\n",
    "        if spot[\"occupied\"]:\n",
    "            t = time.ctime(spot[\"start_time\"])\n",
    "            print(Fore.RED + f\"🅿️ Place {num} | 🚗 OCCUPÉE depuis {t}\")\n",
    "        else:\n",
    "            print(Fore.GREEN + f\"🅿️ Place {num} | ✅ LIBRE\")\n",
    "    print(Fore.YELLOW + \"-\" * 30)\n",
    "\n",
    "def afficher_revenus():\n",
    "    print(f\"💰 Revenu total collecté : {total_revenue:.2f} $\")"
   ]
  },
  {
   "cell_type": "code",
   "execution_count": null,
   "id": "5c80ca67-9da2-4cc7-985a-1f5f995f023e",
   "metadata": {},
   "outputs": [
    {
     "name": "stdout",
     "output_type": "stream",
     "text": [
      "Bienvenue dans le système de gestion de parking 🚘\n"
     ]
    },
    {
     "name": "stdin",
     "output_type": "stream",
     "text": [
      "Cliquez sur ENTRÉE pour commencer... \n"
     ]
    },
    {
     "name": "stdout",
     "output_type": "stream",
     "text": [
      "----\n",
      "MENU\n",
      "----\n",
      "1. Louer une place\n",
      "2. Rendre une voiture\n",
      "3. Afficher l’état du parking\n",
      "4. Afficher le revenu total\n",
      "5. Quitter\n",
      "\n"
     ]
    },
    {
     "name": "stdin",
     "output_type": "stream",
     "text": [
      "👉 Votre choix (1 à 5) :  3\n"
     ]
    },
    {
     "name": "stdout",
     "output_type": "stream",
     "text": [
      "🚦 État du parking :\n",
      "------------------------------\n",
      "🅿️ Place 1 | ✅ LIBRE\n",
      "🅿️ Place 2 | ✅ LIBRE\n",
      "🅿️ Place 3 | ✅ LIBRE\n",
      "🅿️ Place 4 | ✅ LIBRE\n",
      "🅿️ Place 5 | ✅ LIBRE\n",
      "🅿️ Place 6 | ✅ LIBRE\n",
      "🅿️ Place 7 | ✅ LIBRE\n",
      "🅿️ Place 8 | ✅ LIBRE\n",
      "🅿️ Place 9 | ✅ LIBRE\n",
      "🅿️ Place 10 | ✅ LIBRE\n",
      "------------------------------\n",
      "----\n",
      "MENU\n",
      "----\n",
      "1. Louer une place\n",
      "2. Rendre une voiture\n",
      "3. Afficher l’état du parking\n",
      "4. Afficher le revenu total\n",
      "5. Quitter\n",
      "\n"
     ]
    }
   ],
   "source": [
    "# Menu interactif\n",
    "menu = (\n",
    "    \"----\\nMENU\\n----\\n\"\n",
    "    \"1. Louer une place\\n\"\n",
    "    \"2. Rendre une voiture\\n\"\n",
    "    \"3. Afficher l’état du parking\\n\"\n",
    "    \"4. Afficher le revenu total\\n\"\n",
    "    \"5. Quitter\\n\"\n",
    ")\n",
    "\n",
    "print(\"Bienvenue dans le système de gestion de parking 🚘\")\n",
    "input(\"Cliquez sur ENTRÉE pour commencer...\")\n",
    "\n",
    "while True:\n",
    "    print(menu)\n",
    "    try:\n",
    "        choix = int(input(\"👉 Votre choix (1 à 5) : \"))\n",
    "    except ValueError:\n",
    "        print(\"❌ Veuillez entrer un nombre valide.\")\n",
    "        continue\n",
    "\n",
    "    if choix == 1:\n",
    "        louer_place()\n",
    "    elif choix == 2:\n",
    "        rendre_place()\n",
    "    elif choix == 3:\n",
    "        afficher_etat()\n",
    "    elif choix == 4:\n",
    "        afficher_revenus()\n",
    "    elif choix == 5:\n",
    "        print(\"👋 À bientôt !\")\n",
    "        break\n",
    "    else:\n",
    "        print(\"❌ Choix invalide.\")"
   ]
  },
  {
   "cell_type": "code",
   "execution_count": null,
   "id": "5f8f424f-769c-4f78-afa3-fa93181e3b0d",
   "metadata": {},
   "outputs": [],
   "source": [
    "# Conclusion\n",
    "\"\"\"\n",
    "## Conclusion\n",
    "\n",
    "Ce notebook montre un système simple de stationnement simulé.\n",
    "\n",
    "Prochaines idées d'amélioration :\n",
    "- Ajouter une prédiction d’occupation avec du Machine Learning\n",
    "- Visualiser les logs avec matplotlib/seaborn\n",
    "- Ajouter une interface interactive avec des widgets\n",
    "\n",
    "Auteure : Romzi ❤️\n",
    "\"\"\""
   ]
  }
 ],
 "metadata": {
  "kernelspec": {
   "display_name": "Python [conda env:base] *",
   "language": "python",
   "name": "conda-base-py"
  },
  "language_info": {
   "codemirror_mode": {
    "name": "ipython",
    "version": 3
   },
   "file_extension": ".py",
   "mimetype": "text/x-python",
   "name": "python",
   "nbconvert_exporter": "python",
   "pygments_lexer": "ipython3",
   "version": "3.12.7"
  }
 },
 "nbformat": 4,
 "nbformat_minor": 5
}
